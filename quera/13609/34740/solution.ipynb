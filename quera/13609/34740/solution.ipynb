{
 "cells": [
  {
   "cell_type": "markdown",
   "metadata": {},
   "source": [
    " در آغاز چون نیاز به توابع کتاب‌خانه‌ی `pandas` دارید، باید آن را `import` کنید."
   ]
  },
  {
   "cell_type": "code",
   "execution_count": 1,
   "metadata": {
    "collapsed": false,
    "jupyter": {
     "outputs_hidden": false
    },
    "pycharm": {
     "name": "#%%\n"
    }
   },
   "outputs": [],
   "source": [
    "import pandas as pd"
   ]
  },
  {
   "cell_type": "markdown",
   "metadata": {},
   "source": [
    "ابتدا فایل\n",
    "`dates.csv`\n",
    "که در کنار این نوت‌بوک وجود دارد را به وسیله‌ی کتابخانه\n",
    "`pandas`\n",
    "بخوانید"
   ]
  },
  {
   "cell_type": "code",
   "execution_count": 2,
   "metadata": {
    "collapsed": false,
    "jupyter": {
     "outputs_hidden": false
    },
    "pycharm": {
     "name": "#%%\n"
    }
   },
   "outputs": [
    {
     "data": {
      "text/html": [
       "<div>\n",
       "<style scoped>\n",
       "    .dataframe tbody tr th:only-of-type {\n",
       "        vertical-align: middle;\n",
       "    }\n",
       "\n",
       "    .dataframe tbody tr th {\n",
       "        vertical-align: top;\n",
       "    }\n",
       "\n",
       "    .dataframe thead th {\n",
       "        text-align: right;\n",
       "    }\n",
       "</style>\n",
       "<table border=\"1\" class=\"dataframe\">\n",
       "  <thead>\n",
       "    <tr style=\"text-align: right;\">\n",
       "      <th></th>\n",
       "      <th>Unnamed: 0</th>\n",
       "      <th>title</th>\n",
       "      <th>year</th>\n",
       "      <th>country</th>\n",
       "      <th>date</th>\n",
       "    </tr>\n",
       "  </thead>\n",
       "  <tbody>\n",
       "    <tr>\n",
       "      <th>0</th>\n",
       "      <td>324126</td>\n",
       "      <td>Synecdoche, New York</td>\n",
       "      <td>2008</td>\n",
       "      <td>USA</td>\n",
       "      <td>2008-11-21</td>\n",
       "    </tr>\n",
       "    <tr>\n",
       "      <th>1</th>\n",
       "      <td>66463</td>\n",
       "      <td>Close Encounters of the Third Kind</td>\n",
       "      <td>1977</td>\n",
       "      <td>Greece</td>\n",
       "      <td>1978-03-10</td>\n",
       "    </tr>\n",
       "    <tr>\n",
       "      <th>2</th>\n",
       "      <td>51496</td>\n",
       "      <td>Brotherly Love</td>\n",
       "      <td>1928</td>\n",
       "      <td>Finland</td>\n",
       "      <td>1929-11-18</td>\n",
       "    </tr>\n",
       "    <tr>\n",
       "      <th>3</th>\n",
       "      <td>236362</td>\n",
       "      <td>My Son, My Son!</td>\n",
       "      <td>1940</td>\n",
       "      <td>Mexico</td>\n",
       "      <td>1940-05-23</td>\n",
       "    </tr>\n",
       "    <tr>\n",
       "      <th>4</th>\n",
       "      <td>374347</td>\n",
       "      <td>The North Avenue Irregulars</td>\n",
       "      <td>1979</td>\n",
       "      <td>USA</td>\n",
       "      <td>1979-02-09</td>\n",
       "    </tr>\n",
       "    <tr>\n",
       "      <th>5</th>\n",
       "      <td>377373</td>\n",
       "      <td>The Phynx</td>\n",
       "      <td>1970</td>\n",
       "      <td>USA</td>\n",
       "      <td>1970-05-06</td>\n",
       "    </tr>\n",
       "    <tr>\n",
       "      <th>6</th>\n",
       "      <td>280556</td>\n",
       "      <td>Richard III</td>\n",
       "      <td>1912</td>\n",
       "      <td>USA</td>\n",
       "      <td>1912-10-15</td>\n",
       "    </tr>\n",
       "    <tr>\n",
       "      <th>7</th>\n",
       "      <td>402546</td>\n",
       "      <td>To Live and Die in L.A.</td>\n",
       "      <td>1985</td>\n",
       "      <td>Spain</td>\n",
       "      <td>1986-05-14</td>\n",
       "    </tr>\n",
       "    <tr>\n",
       "      <th>8</th>\n",
       "      <td>350837</td>\n",
       "      <td>The Fog</td>\n",
       "      <td>2005</td>\n",
       "      <td>USA</td>\n",
       "      <td>2005-10-14</td>\n",
       "    </tr>\n",
       "    <tr>\n",
       "      <th>9</th>\n",
       "      <td>145812</td>\n",
       "      <td>Home (II)</td>\n",
       "      <td>2015</td>\n",
       "      <td>Latvia</td>\n",
       "      <td>2015-03-20</td>\n",
       "    </tr>\n",
       "  </tbody>\n",
       "</table>\n",
       "</div>"
      ],
      "text/plain": [
       "   Unnamed: 0                               title  year  country        date\n",
       "0      324126                Synecdoche, New York  2008      USA  2008-11-21\n",
       "1       66463  Close Encounters of the Third Kind  1977   Greece  1978-03-10\n",
       "2       51496                      Brotherly Love  1928  Finland  1929-11-18\n",
       "3      236362                     My Son, My Son!  1940   Mexico  1940-05-23\n",
       "4      374347         The North Avenue Irregulars  1979      USA  1979-02-09\n",
       "5      377373                           The Phynx  1970      USA  1970-05-06\n",
       "6      280556                         Richard III  1912      USA  1912-10-15\n",
       "7      402546             To Live and Die in L.A.  1985    Spain  1986-05-14\n",
       "8      350837                             The Fog  2005      USA  2005-10-14\n",
       "9      145812                           Home (II)  2015   Latvia  2015-03-20"
      ]
     },
     "execution_count": 2,
     "metadata": {},
     "output_type": "execute_result"
    }
   ],
   "source": [
    "dates = pd.read_csv('dates.csv', sep=\",\")\n",
    "dates.head(10)"
   ]
  },
  {
   "cell_type": "markdown",
   "metadata": {},
   "source": [
    "می‌توانید با استفاده از متد\n",
    "`describe`\n",
    "خلاصه‌ای از اطلاعات هر ستون را ببینید."
   ]
  },
  {
   "cell_type": "code",
   "execution_count": 3,
   "metadata": {
    "collapsed": false,
    "jupyter": {
     "outputs_hidden": false
    },
    "pycharm": {
     "name": "#%%\n"
    }
   },
   "outputs": [
    {
     "data": {
      "text/html": [
       "<div>\n",
       "<style scoped>\n",
       "    .dataframe tbody tr th:only-of-type {\n",
       "        vertical-align: middle;\n",
       "    }\n",
       "\n",
       "    .dataframe tbody tr th {\n",
       "        vertical-align: top;\n",
       "    }\n",
       "\n",
       "    .dataframe thead th {\n",
       "        text-align: right;\n",
       "    }\n",
       "</style>\n",
       "<table border=\"1\" class=\"dataframe\">\n",
       "  <thead>\n",
       "    <tr style=\"text-align: right;\">\n",
       "      <th></th>\n",
       "      <th>Unnamed: 0</th>\n",
       "      <th>year</th>\n",
       "    </tr>\n",
       "  </thead>\n",
       "  <tbody>\n",
       "    <tr>\n",
       "      <th>count</th>\n",
       "      <td>5000.000000</td>\n",
       "      <td>5000.000000</td>\n",
       "    </tr>\n",
       "    <tr>\n",
       "      <th>mean</th>\n",
       "      <td>222892.446400</td>\n",
       "      <td>1985.259200</td>\n",
       "    </tr>\n",
       "    <tr>\n",
       "      <th>std</th>\n",
       "      <td>126952.536025</td>\n",
       "      <td>27.788351</td>\n",
       "    </tr>\n",
       "    <tr>\n",
       "      <th>min</th>\n",
       "      <td>108.000000</td>\n",
       "      <td>1911.000000</td>\n",
       "    </tr>\n",
       "    <tr>\n",
       "      <th>25%</th>\n",
       "      <td>113078.500000</td>\n",
       "      <td>1966.000000</td>\n",
       "    </tr>\n",
       "    <tr>\n",
       "      <th>50%</th>\n",
       "      <td>222977.500000</td>\n",
       "      <td>1996.000000</td>\n",
       "    </tr>\n",
       "    <tr>\n",
       "      <th>75%</th>\n",
       "      <td>332407.000000</td>\n",
       "      <td>2008.000000</td>\n",
       "    </tr>\n",
       "    <tr>\n",
       "      <th>max</th>\n",
       "      <td>441544.000000</td>\n",
       "      <td>2020.000000</td>\n",
       "    </tr>\n",
       "  </tbody>\n",
       "</table>\n",
       "</div>"
      ],
      "text/plain": [
       "          Unnamed: 0         year\n",
       "count    5000.000000  5000.000000\n",
       "mean   222892.446400  1985.259200\n",
       "std    126952.536025    27.788351\n",
       "min       108.000000  1911.000000\n",
       "25%    113078.500000  1966.000000\n",
       "50%    222977.500000  1996.000000\n",
       "75%    332407.000000  2008.000000\n",
       "max    441544.000000  2020.000000"
      ]
     },
     "execution_count": 3,
     "metadata": {},
     "output_type": "execute_result"
    }
   ],
   "source": [
    "dates.describe()"
   ]
  },
  {
   "cell_type": "markdown",
   "metadata": {},
   "source": [
    "می‌توانید به وسیله‌ی متد \n",
    "`head`\n",
    "چند ردیف اول از داده را بخوانید"
   ]
  },
  {
   "cell_type": "code",
   "execution_count": 8,
   "metadata": {
    "collapsed": false,
    "jupyter": {
     "outputs_hidden": false
    },
    "pycharm": {
     "name": "#%%\n"
    }
   },
   "outputs": [
    {
     "data": {
      "text/html": [
       "<div>\n",
       "<style scoped>\n",
       "    .dataframe tbody tr th:only-of-type {\n",
       "        vertical-align: middle;\n",
       "    }\n",
       "\n",
       "    .dataframe tbody tr th {\n",
       "        vertical-align: top;\n",
       "    }\n",
       "\n",
       "    .dataframe thead th {\n",
       "        text-align: right;\n",
       "    }\n",
       "</style>\n",
       "<table border=\"1\" class=\"dataframe\">\n",
       "  <thead>\n",
       "    <tr style=\"text-align: right;\">\n",
       "      <th></th>\n",
       "      <th>Unnamed: 0</th>\n",
       "      <th>title</th>\n",
       "      <th>year</th>\n",
       "      <th>country</th>\n",
       "      <th>date</th>\n",
       "    </tr>\n",
       "  </thead>\n",
       "  <tbody>\n",
       "    <tr>\n",
       "      <th>2542</th>\n",
       "      <td>10281</td>\n",
       "      <td>A Ticket in Tatts</td>\n",
       "      <td>1911</td>\n",
       "      <td>Australia</td>\n",
       "      <td>1911-06-19</td>\n",
       "    </tr>\n",
       "    <tr>\n",
       "      <th>6</th>\n",
       "      <td>280556</td>\n",
       "      <td>Richard III</td>\n",
       "      <td>1912</td>\n",
       "      <td>USA</td>\n",
       "      <td>1912-10-15</td>\n",
       "    </tr>\n",
       "    <tr>\n",
       "      <th>1996</th>\n",
       "      <td>405816</td>\n",
       "      <td>Tragedie ve snehu</td>\n",
       "      <td>1913</td>\n",
       "      <td>Czechoslovakia</td>\n",
       "      <td>1913-04-11</td>\n",
       "    </tr>\n",
       "    <tr>\n",
       "      <th>430</th>\n",
       "      <td>190944</td>\n",
       "      <td>La terra promessa</td>\n",
       "      <td>1913</td>\n",
       "      <td>France</td>\n",
       "      <td>1913-06-06</td>\n",
       "    </tr>\n",
       "    <tr>\n",
       "      <th>2066</th>\n",
       "      <td>259909</td>\n",
       "      <td>Pearl's Mistake</td>\n",
       "      <td>1913</td>\n",
       "      <td>USA</td>\n",
       "      <td>1913-10-14</td>\n",
       "    </tr>\n",
       "  </tbody>\n",
       "</table>\n",
       "</div>"
      ],
      "text/plain": [
       "      Unnamed: 0              title  year         country        date\n",
       "2542       10281  A Ticket in Tatts  1911       Australia  1911-06-19\n",
       "6         280556        Richard III  1912             USA  1912-10-15\n",
       "1996      405816  Tragedie ve snehu  1913  Czechoslovakia  1913-04-11\n",
       "430       190944  La terra promessa  1913          France  1913-06-06\n",
       "2066      259909    Pearl's Mistake  1913             USA  1913-10-14"
      ]
     },
     "execution_count": 8,
     "metadata": {},
     "output_type": "execute_result"
    }
   ],
   "source": [
    "dates.sort_values(by='date').head(5)"
   ]
  },
  {
   "cell_type": "markdown",
   "metadata": {},
   "source": [
    "در`pandas` وقتی  نام ستونی در فایل `csv` ذکر نشده باشد، آن را به صورت `Unnamed: i` نام‌گذاری می‌کند که i نشان‌دهنده‌ی iمین ستون بدون نام است.\n",
    "\n",
    "اگر به کمک دستور `head` بخشی از داده را مشاهده کرده باشید، می‌بینید که یک ستون `Unnamed` در این داده وجود دارد.\n",
    "\n",
    "به کمک متد\n",
    "`drop`\n",
    "این ستون را حذف کنید.(دقت کنید که برای حذف ستون باید نام کامل آن را در `drop` بنویسید)"
   ]
  },
  {
   "cell_type": "code",
   "execution_count": 13,
   "metadata": {
    "collapsed": false,
    "jupyter": {
     "outputs_hidden": false
    },
    "pycharm": {
     "name": "#%%\n"
    }
   },
   "outputs": [
    {
     "data": {
      "text/html": [
       "<div>\n",
       "<style scoped>\n",
       "    .dataframe tbody tr th:only-of-type {\n",
       "        vertical-align: middle;\n",
       "    }\n",
       "\n",
       "    .dataframe tbody tr th {\n",
       "        vertical-align: top;\n",
       "    }\n",
       "\n",
       "    .dataframe thead th {\n",
       "        text-align: right;\n",
       "    }\n",
       "</style>\n",
       "<table border=\"1\" class=\"dataframe\">\n",
       "  <thead>\n",
       "    <tr style=\"text-align: right;\">\n",
       "      <th></th>\n",
       "      <th>title</th>\n",
       "      <th>year</th>\n",
       "      <th>country</th>\n",
       "      <th>date</th>\n",
       "    </tr>\n",
       "  </thead>\n",
       "  <tbody>\n",
       "    <tr>\n",
       "      <th>0</th>\n",
       "      <td>Synecdoche, New York</td>\n",
       "      <td>2008</td>\n",
       "      <td>USA</td>\n",
       "      <td>2008-11-21</td>\n",
       "    </tr>\n",
       "    <tr>\n",
       "      <th>1</th>\n",
       "      <td>Close Encounters of the Third Kind</td>\n",
       "      <td>1977</td>\n",
       "      <td>Greece</td>\n",
       "      <td>1978-03-10</td>\n",
       "    </tr>\n",
       "    <tr>\n",
       "      <th>2</th>\n",
       "      <td>Brotherly Love</td>\n",
       "      <td>1928</td>\n",
       "      <td>Finland</td>\n",
       "      <td>1929-11-18</td>\n",
       "    </tr>\n",
       "    <tr>\n",
       "      <th>3</th>\n",
       "      <td>My Son, My Son!</td>\n",
       "      <td>1940</td>\n",
       "      <td>Mexico</td>\n",
       "      <td>1940-05-23</td>\n",
       "    </tr>\n",
       "    <tr>\n",
       "      <th>4</th>\n",
       "      <td>The North Avenue Irregulars</td>\n",
       "      <td>1979</td>\n",
       "      <td>USA</td>\n",
       "      <td>1979-02-09</td>\n",
       "    </tr>\n",
       "    <tr>\n",
       "      <th>...</th>\n",
       "      <td>...</td>\n",
       "      <td>...</td>\n",
       "      <td>...</td>\n",
       "      <td>...</td>\n",
       "    </tr>\n",
       "    <tr>\n",
       "      <th>4995</th>\n",
       "      <td>Ymma</td>\n",
       "      <td>2013</td>\n",
       "      <td>Morocco</td>\n",
       "      <td>2013-12-25</td>\n",
       "    </tr>\n",
       "    <tr>\n",
       "      <th>4996</th>\n",
       "      <td>Arnold</td>\n",
       "      <td>1973</td>\n",
       "      <td>USA</td>\n",
       "      <td>1973-11-16</td>\n",
       "    </tr>\n",
       "    <tr>\n",
       "      <th>4997</th>\n",
       "      <td>Bob &amp; Carol &amp; Ted &amp; Alice</td>\n",
       "      <td>1969</td>\n",
       "      <td>Netherlands</td>\n",
       "      <td>1970-03-26</td>\n",
       "    </tr>\n",
       "    <tr>\n",
       "      <th>4998</th>\n",
       "      <td>The Beverly Hillbillies</td>\n",
       "      <td>1993</td>\n",
       "      <td>Finland</td>\n",
       "      <td>1994-07-15</td>\n",
       "    </tr>\n",
       "    <tr>\n",
       "      <th>4999</th>\n",
       "      <td>Sherlock Holmes</td>\n",
       "      <td>2009</td>\n",
       "      <td>Latvia</td>\n",
       "      <td>2009-12-25</td>\n",
       "    </tr>\n",
       "  </tbody>\n",
       "</table>\n",
       "<p>5000 rows × 4 columns</p>\n",
       "</div>"
      ],
      "text/plain": [
       "                                   title  year      country        date\n",
       "0                   Synecdoche, New York  2008          USA  2008-11-21\n",
       "1     Close Encounters of the Third Kind  1977       Greece  1978-03-10\n",
       "2                         Brotherly Love  1928      Finland  1929-11-18\n",
       "3                        My Son, My Son!  1940       Mexico  1940-05-23\n",
       "4            The North Avenue Irregulars  1979          USA  1979-02-09\n",
       "...                                  ...   ...          ...         ...\n",
       "4995                                Ymma  2013      Morocco  2013-12-25\n",
       "4996                              Arnold  1973          USA  1973-11-16\n",
       "4997           Bob & Carol & Ted & Alice  1969  Netherlands  1970-03-26\n",
       "4998             The Beverly Hillbillies  1993      Finland  1994-07-15\n",
       "4999                     Sherlock Holmes  2009       Latvia  2009-12-25\n",
       "\n",
       "[5000 rows x 4 columns]"
      ]
     },
     "execution_count": 13,
     "metadata": {},
     "output_type": "execute_result"
    }
   ],
   "source": [
    "dates.drop(columns=['Unnamed: 0'])"
   ]
  },
  {
   "cell_type": "markdown",
   "metadata": {},
   "source": [
    "۵۰۰ ردیف اول داده را گرفته و در جای دیگری ذخیره کنید."
   ]
  },
  {
   "cell_type": "code",
   "execution_count": 17,
   "metadata": {
    "collapsed": false,
    "jupyter": {
     "outputs_hidden": false
    },
    "pycharm": {
     "name": "#%%\n"
    }
   },
   "outputs": [
    {
     "data": {
      "text/html": [
       "<div>\n",
       "<style scoped>\n",
       "    .dataframe tbody tr th:only-of-type {\n",
       "        vertical-align: middle;\n",
       "    }\n",
       "\n",
       "    .dataframe tbody tr th {\n",
       "        vertical-align: top;\n",
       "    }\n",
       "\n",
       "    .dataframe thead th {\n",
       "        text-align: right;\n",
       "    }\n",
       "</style>\n",
       "<table border=\"1\" class=\"dataframe\">\n",
       "  <thead>\n",
       "    <tr style=\"text-align: right;\">\n",
       "      <th></th>\n",
       "      <th>Unnamed: 0</th>\n",
       "      <th>title</th>\n",
       "      <th>year</th>\n",
       "      <th>country</th>\n",
       "      <th>date</th>\n",
       "    </tr>\n",
       "  </thead>\n",
       "  <tbody>\n",
       "    <tr>\n",
       "      <th>0</th>\n",
       "      <td>324126</td>\n",
       "      <td>Synecdoche, New York</td>\n",
       "      <td>2008</td>\n",
       "      <td>USA</td>\n",
       "      <td>2008-11-21</td>\n",
       "    </tr>\n",
       "    <tr>\n",
       "      <th>1</th>\n",
       "      <td>66463</td>\n",
       "      <td>Close Encounters of the Third Kind</td>\n",
       "      <td>1977</td>\n",
       "      <td>Greece</td>\n",
       "      <td>1978-03-10</td>\n",
       "    </tr>\n",
       "    <tr>\n",
       "      <th>2</th>\n",
       "      <td>51496</td>\n",
       "      <td>Brotherly Love</td>\n",
       "      <td>1928</td>\n",
       "      <td>Finland</td>\n",
       "      <td>1929-11-18</td>\n",
       "    </tr>\n",
       "    <tr>\n",
       "      <th>3</th>\n",
       "      <td>236362</td>\n",
       "      <td>My Son, My Son!</td>\n",
       "      <td>1940</td>\n",
       "      <td>Mexico</td>\n",
       "      <td>1940-05-23</td>\n",
       "    </tr>\n",
       "    <tr>\n",
       "      <th>4</th>\n",
       "      <td>374347</td>\n",
       "      <td>The North Avenue Irregulars</td>\n",
       "      <td>1979</td>\n",
       "      <td>USA</td>\n",
       "      <td>1979-02-09</td>\n",
       "    </tr>\n",
       "    <tr>\n",
       "      <th>...</th>\n",
       "      <td>...</td>\n",
       "      <td>...</td>\n",
       "      <td>...</td>\n",
       "      <td>...</td>\n",
       "      <td>...</td>\n",
       "    </tr>\n",
       "    <tr>\n",
       "      <th>495</th>\n",
       "      <td>225090</td>\n",
       "      <td>Mil gritos tiene la noche</td>\n",
       "      <td>1982</td>\n",
       "      <td>Italy</td>\n",
       "      <td>1982-10-08</td>\n",
       "    </tr>\n",
       "    <tr>\n",
       "      <th>496</th>\n",
       "      <td>409358</td>\n",
       "      <td>Tumaku Paruni Ta Bhuli</td>\n",
       "      <td>2007</td>\n",
       "      <td>India</td>\n",
       "      <td>2007-12-12</td>\n",
       "    </tr>\n",
       "    <tr>\n",
       "      <th>497</th>\n",
       "      <td>430226</td>\n",
       "      <td>Will Success Spoil Rock Hunter?</td>\n",
       "      <td>1957</td>\n",
       "      <td>Finland</td>\n",
       "      <td>1958-01-31</td>\n",
       "    </tr>\n",
       "    <tr>\n",
       "      <th>498</th>\n",
       "      <td>390400</td>\n",
       "      <td>The Third Man</td>\n",
       "      <td>1949</td>\n",
       "      <td>Portugal</td>\n",
       "      <td>1950-03-03</td>\n",
       "    </tr>\n",
       "    <tr>\n",
       "      <th>499</th>\n",
       "      <td>3171</td>\n",
       "      <td>28 Hotel Rooms</td>\n",
       "      <td>2012</td>\n",
       "      <td>Netherlands</td>\n",
       "      <td>2013-08-01</td>\n",
       "    </tr>\n",
       "  </tbody>\n",
       "</table>\n",
       "<p>500 rows × 5 columns</p>\n",
       "</div>"
      ],
      "text/plain": [
       "     Unnamed: 0                               title  year      country  \\\n",
       "0        324126                Synecdoche, New York  2008          USA   \n",
       "1         66463  Close Encounters of the Third Kind  1977       Greece   \n",
       "2         51496                      Brotherly Love  1928      Finland   \n",
       "3        236362                     My Son, My Son!  1940       Mexico   \n",
       "4        374347         The North Avenue Irregulars  1979          USA   \n",
       "..          ...                                 ...   ...          ...   \n",
       "495      225090           Mil gritos tiene la noche  1982        Italy   \n",
       "496      409358              Tumaku Paruni Ta Bhuli  2007        India   \n",
       "497      430226     Will Success Spoil Rock Hunter?  1957      Finland   \n",
       "498      390400                       The Third Man  1949     Portugal   \n",
       "499        3171                      28 Hotel Rooms  2012  Netherlands   \n",
       "\n",
       "           date  \n",
       "0    2008-11-21  \n",
       "1    1978-03-10  \n",
       "2    1929-11-18  \n",
       "3    1940-05-23  \n",
       "4    1979-02-09  \n",
       "..          ...  \n",
       "495  1982-10-08  \n",
       "496  2007-12-12  \n",
       "497  1958-01-31  \n",
       "498  1950-03-03  \n",
       "499  2013-08-01  \n",
       "\n",
       "[500 rows x 5 columns]"
      ]
     },
     "execution_count": 17,
     "metadata": {},
     "output_type": "execute_result"
    }
   ],
   "source": [
    "first_500 = dates.head(500)\n",
    "first_500"
   ]
  },
  {
   "cell_type": "markdown",
   "metadata": {},
   "source": [
    "مجموعه‌ی داده جدید را به وسیله متد \n",
    "`to_csv`\n",
    "در فایل\n",
    "`sample.csv`\n",
    "ذخیره کنید."
   ]
  },
  {
   "cell_type": "code",
   "execution_count": null,
   "metadata": {
    "collapsed": false,
    "jupyter": {
     "outputs_hidden": false
    },
    "pycharm": {
     "name": "#%%\n"
    }
   },
   "outputs": [],
   "source": [
    "first_500.to_csv('sample.csv')"
   ]
  },
  {
   "cell_type": "markdown",
   "metadata": {},
   "source": [
    "بعد از ذخیره کردن نوت‌بوک، **ارسال پاسخ** را انتخاب کنید."
   ]
  }
 ],
 "metadata": {
  "kernelspec": {
   "display_name": "Python 3",
   "language": "python",
   "name": "python3"
  },
  "language_info": {
   "codemirror_mode": {
    "name": "ipython",
    "version": 3
   },
   "file_extension": ".py",
   "mimetype": "text/x-python",
   "name": "python",
   "nbconvert_exporter": "python",
   "pygments_lexer": "ipython3",
   "version": "3.6.9"
  },
  "pycharm": {
   "stem_cell": {
    "cell_type": "raw",
    "metadata": {
     "collapsed": false
    },
    "source": []
   }
  }
 },
 "nbformat": 4,
 "nbformat_minor": 4
}
