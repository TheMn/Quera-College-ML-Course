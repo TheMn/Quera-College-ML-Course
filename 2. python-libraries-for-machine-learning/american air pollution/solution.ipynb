{
 "cells": [
  {
   "cell_type": "markdown",
   "metadata": {},
   "source": [
    "# بررسی آلودگی هوای آمریکا"
   ]
  },
  {
   "cell_type": "markdown",
   "metadata": {},
   "source": [
    "در این تمرین می‌خواهیم با داده‌های آلودگی هوای آمریکا در سال ۲۰۱۸ که پیش‌تر در درس‌نامه قبلی با آن کار کردیم، بیشتر کار کنیم و سوالاتی را از آن جواب دهیم."
   ]
  },
  {
   "cell_type": "markdown",
   "metadata": {},
   "source": [
    "ابتدا داده را از فایل csv بخوانید و در متغیر aqi_data بریزید."
   ]
  },
  {
   "cell_type": "code",
   "execution_count": 1,
   "metadata": {},
   "outputs": [],
   "source": [
    "import pandas as pd"
   ]
  },
  {
   "cell_type": "code",
   "execution_count": 2,
   "metadata": {},
   "outputs": [
    {
     "data": {
      "text/html": [
       "<div>\n",
       "<style scoped>\n",
       "    .dataframe tbody tr th:only-of-type {\n",
       "        vertical-align: middle;\n",
       "    }\n",
       "\n",
       "    .dataframe tbody tr th {\n",
       "        vertical-align: top;\n",
       "    }\n",
       "\n",
       "    .dataframe thead th {\n",
       "        text-align: right;\n",
       "    }\n",
       "</style>\n",
       "<table border=\"1\" class=\"dataframe\">\n",
       "  <thead>\n",
       "    <tr style=\"text-align: right;\">\n",
       "      <th></th>\n",
       "      <th>State Name</th>\n",
       "      <th>county Name</th>\n",
       "      <th>Date</th>\n",
       "      <th>AQI</th>\n",
       "      <th>Category</th>\n",
       "      <th>Defining Parameter</th>\n",
       "    </tr>\n",
       "  </thead>\n",
       "  <tbody>\n",
       "    <tr>\n",
       "      <th>0</th>\n",
       "      <td>Alabama</td>\n",
       "      <td>Baldwin</td>\n",
       "      <td>2018-01-02</td>\n",
       "      <td>32</td>\n",
       "      <td>Good</td>\n",
       "      <td>PM2.5</td>\n",
       "    </tr>\n",
       "    <tr>\n",
       "      <th>1</th>\n",
       "      <td>Alabama</td>\n",
       "      <td>Baldwin</td>\n",
       "      <td>2018-01-05</td>\n",
       "      <td>34</td>\n",
       "      <td>Good</td>\n",
       "      <td>PM2.5</td>\n",
       "    </tr>\n",
       "    <tr>\n",
       "      <th>2</th>\n",
       "      <td>Alabama</td>\n",
       "      <td>Baldwin</td>\n",
       "      <td>2018-01-08</td>\n",
       "      <td>15</td>\n",
       "      <td>Good</td>\n",
       "      <td>PM2.5</td>\n",
       "    </tr>\n",
       "    <tr>\n",
       "      <th>3</th>\n",
       "      <td>Alabama</td>\n",
       "      <td>Baldwin</td>\n",
       "      <td>2018-01-11</td>\n",
       "      <td>19</td>\n",
       "      <td>Good</td>\n",
       "      <td>PM2.5</td>\n",
       "    </tr>\n",
       "    <tr>\n",
       "      <th>4</th>\n",
       "      <td>Alabama</td>\n",
       "      <td>Baldwin</td>\n",
       "      <td>2018-01-14</td>\n",
       "      <td>25</td>\n",
       "      <td>Good</td>\n",
       "      <td>PM2.5</td>\n",
       "    </tr>\n",
       "  </tbody>\n",
       "</table>\n",
       "</div>"
      ],
      "text/plain": [
       "  State Name county Name        Date  AQI Category Defining Parameter\n",
       "0    Alabama     Baldwin  2018-01-02   32     Good              PM2.5\n",
       "1    Alabama     Baldwin  2018-01-05   34     Good              PM2.5\n",
       "2    Alabama     Baldwin  2018-01-08   15     Good              PM2.5\n",
       "3    Alabama     Baldwin  2018-01-11   19     Good              PM2.5\n",
       "4    Alabama     Baldwin  2018-01-14   25     Good              PM2.5"
      ]
     },
     "execution_count": 2,
     "metadata": {},
     "output_type": "execute_result"
    }
   ],
   "source": [
    "data = pd.read_csv('AQI2018.csv', sep=\",\")\n",
    "data.head(5)"
   ]
  },
  {
   "cell_type": "markdown",
   "metadata": {},
   "source": [
    "در ابتدا می‌خواهیم ببینیم در چه تاریخی میانگین آلودگی هوای آمریکا بیشترین مقدار بوده است. ده تاریخی را که بیشترین میانگین آلودگی هوا را در این سال داشته‌اند، به ترتیب میزان آلودگی، در فایلی به نام dates.csv ذخیره کنید.\n",
    "\n",
    "\n",
    "توجه کنید که این فایل دو ستون و ده سطر باید داشته باشد که ستون اول تاریخ‌هایی که بیشترین آلودگی هوا را دارند(به ترتیب) باشند و در ستون دوم میانگین آلودگی هوا در آن روز برای تاریخ مربوطه قرار بگیرد."
   ]
  },
  {
   "cell_type": "code",
   "execution_count": 3,
   "metadata": {},
   "outputs": [
    {
     "data": {
      "text/html": [
       "<div>\n",
       "<style scoped>\n",
       "    .dataframe tbody tr th:only-of-type {\n",
       "        vertical-align: middle;\n",
       "    }\n",
       "\n",
       "    .dataframe tbody tr th {\n",
       "        vertical-align: top;\n",
       "    }\n",
       "\n",
       "    .dataframe thead th {\n",
       "        text-align: right;\n",
       "    }\n",
       "</style>\n",
       "<table border=\"1\" class=\"dataframe\">\n",
       "  <thead>\n",
       "    <tr style=\"text-align: right;\">\n",
       "      <th></th>\n",
       "      <th>Avg</th>\n",
       "    </tr>\n",
       "    <tr>\n",
       "      <th>Date</th>\n",
       "      <th></th>\n",
       "    </tr>\n",
       "  </thead>\n",
       "  <tbody>\n",
       "    <tr>\n",
       "      <th>2018-01-01</th>\n",
       "      <td>38.429612</td>\n",
       "    </tr>\n",
       "    <tr>\n",
       "      <th>2018-01-02</th>\n",
       "      <td>38.207010</td>\n",
       "    </tr>\n",
       "    <tr>\n",
       "      <th>2018-01-03</th>\n",
       "      <td>40.975699</td>\n",
       "    </tr>\n",
       "    <tr>\n",
       "      <th>2018-01-04</th>\n",
       "      <td>38.002427</td>\n",
       "    </tr>\n",
       "    <tr>\n",
       "      <th>2018-01-05</th>\n",
       "      <td>37.421225</td>\n",
       "    </tr>\n",
       "    <tr>\n",
       "      <th>2018-01-06</th>\n",
       "      <td>37.507841</td>\n",
       "    </tr>\n",
       "    <tr>\n",
       "      <th>2018-01-07</th>\n",
       "      <td>38.630303</td>\n",
       "    </tr>\n",
       "    <tr>\n",
       "      <th>2018-01-08</th>\n",
       "      <td>38.323210</td>\n",
       "    </tr>\n",
       "    <tr>\n",
       "      <th>2018-01-09</th>\n",
       "      <td>37.114873</td>\n",
       "    </tr>\n",
       "    <tr>\n",
       "      <th>2018-01-10</th>\n",
       "      <td>34.187120</td>\n",
       "    </tr>\n",
       "  </tbody>\n",
       "</table>\n",
       "</div>"
      ],
      "text/plain": [
       "                  Avg\n",
       "Date                 \n",
       "2018-01-01  38.429612\n",
       "2018-01-02  38.207010\n",
       "2018-01-03  40.975699\n",
       "2018-01-04  38.002427\n",
       "2018-01-05  37.421225\n",
       "2018-01-06  37.507841\n",
       "2018-01-07  38.630303\n",
       "2018-01-08  38.323210\n",
       "2018-01-09  37.114873\n",
       "2018-01-10  34.187120"
      ]
     },
     "execution_count": 3,
     "metadata": {},
     "output_type": "execute_result"
    }
   ],
   "source": [
    "dates = data.groupby(['Date']).AQI.mean().to_frame(name = 'Avg')\n",
    "dates.head(10)"
   ]
  },
  {
   "cell_type": "code",
   "execution_count": 4,
   "metadata": {},
   "outputs": [],
   "source": [
    "dates.sort_values('Avg', ascending=False).head(10).to_csv('dates.csv', header=False)"
   ]
  },
  {
   "cell_type": "markdown",
   "metadata": {},
   "source": [
    "در ادامه می‌خواهیم بدانیم ده ایالتی که بیشترین میزان «میانه» آلودگی را در سال ۲۰۱۸ داشته‌اند، کدام ایالت‌ها هستند. \n",
    "\n",
    "مانند قسمت قبل، نام ایالت‌ها را به همراه میانه شاخص آلودگی هوای آن ایالت در فایلی به نام states.csv ذخیره کنید. این فایل نیز باید دو ستون و ده سطر داشته باشد."
   ]
  },
  {
   "cell_type": "code",
   "execution_count": 5,
   "metadata": {},
   "outputs": [
    {
     "data": {
      "text/html": [
       "<div>\n",
       "<style scoped>\n",
       "    .dataframe tbody tr th:only-of-type {\n",
       "        vertical-align: middle;\n",
       "    }\n",
       "\n",
       "    .dataframe tbody tr th {\n",
       "        vertical-align: top;\n",
       "    }\n",
       "\n",
       "    .dataframe thead th {\n",
       "        text-align: right;\n",
       "    }\n",
       "</style>\n",
       "<table border=\"1\" class=\"dataframe\">\n",
       "  <thead>\n",
       "    <tr style=\"text-align: right;\">\n",
       "      <th></th>\n",
       "      <th>Med</th>\n",
       "    </tr>\n",
       "    <tr>\n",
       "      <th>State Name</th>\n",
       "      <th></th>\n",
       "    </tr>\n",
       "  </thead>\n",
       "  <tbody>\n",
       "    <tr>\n",
       "      <th>Alabama</th>\n",
       "      <td>37.0</td>\n",
       "    </tr>\n",
       "    <tr>\n",
       "      <th>Alaska</th>\n",
       "      <td>25.0</td>\n",
       "    </tr>\n",
       "    <tr>\n",
       "      <th>Arizona</th>\n",
       "      <td>44.0</td>\n",
       "    </tr>\n",
       "    <tr>\n",
       "      <th>Arkansas</th>\n",
       "      <td>37.0</td>\n",
       "    </tr>\n",
       "    <tr>\n",
       "      <th>California</th>\n",
       "      <td>47.0</td>\n",
       "    </tr>\n",
       "    <tr>\n",
       "      <th>Colorado</th>\n",
       "      <td>44.0</td>\n",
       "    </tr>\n",
       "    <tr>\n",
       "      <th>Connecticut</th>\n",
       "      <td>37.5</td>\n",
       "    </tr>\n",
       "    <tr>\n",
       "      <th>Country Of Mexico</th>\n",
       "      <td>42.0</td>\n",
       "    </tr>\n",
       "    <tr>\n",
       "      <th>Delaware</th>\n",
       "      <td>40.0</td>\n",
       "    </tr>\n",
       "    <tr>\n",
       "      <th>District Of Columbia</th>\n",
       "      <td>44.0</td>\n",
       "    </tr>\n",
       "  </tbody>\n",
       "</table>\n",
       "</div>"
      ],
      "text/plain": [
       "                       Med\n",
       "State Name                \n",
       "Alabama               37.0\n",
       "Alaska                25.0\n",
       "Arizona               44.0\n",
       "Arkansas              37.0\n",
       "California            47.0\n",
       "Colorado              44.0\n",
       "Connecticut           37.5\n",
       "Country Of Mexico     42.0\n",
       "Delaware              40.0\n",
       "District Of Columbia  44.0"
      ]
     },
     "execution_count": 5,
     "metadata": {},
     "output_type": "execute_result"
    }
   ],
   "source": [
    "states = data.groupby(['State Name']).AQI.median().to_frame(name = 'Med')\n",
    "states.head(10)"
   ]
  },
  {
   "cell_type": "code",
   "execution_count": 6,
   "metadata": {},
   "outputs": [],
   "source": [
    "states.sort_values('Med', ascending=False).head(10).to_csv('states.csv', header=False)"
   ]
  },
  {
   "cell_type": "markdown",
   "metadata": {},
   "source": [
    "می‌خواهیم بدانیم در منطقه San Diego بیشترین آلاینده‌ها در این سال چه آلاینده‌هایی بوده‌اند.\n",
    "\n",
    "در فایلی به نام parameters.csv که دو ستون دارد و ستون اول نام آلاینده‌ها و ستون دوم تعداد روزهایی است که آلاینده مذکور در ستون اول، الاینده اصلی بوده، داده‌ها را ذخیره کنید.\n"
   ]
  },
  {
   "cell_type": "code",
   "execution_count": 7,
   "metadata": {},
   "outputs": [],
   "source": [
    "params = data[data['county Name'] == 'San Diego'].groupby('Defining Parameter').size().to_frame(name='Cnt').sort_values('Cnt')"
   ]
  },
  {
   "cell_type": "code",
   "execution_count": null,
   "metadata": {},
   "outputs": [],
   "source": []
  }
 ],
 "metadata": {
  "kernelspec": {
   "display_name": "Python 3",
   "language": "python",
   "name": "python3"
  },
  "language_info": {
   "codemirror_mode": {
    "name": "ipython",
    "version": 3
   },
   "file_extension": ".py",
   "mimetype": "text/x-python",
   "name": "python",
   "nbconvert_exporter": "python",
   "pygments_lexer": "ipython3",
   "version": "3.6.9"
  }
 },
 "nbformat": 4,
 "nbformat_minor": 4
}
