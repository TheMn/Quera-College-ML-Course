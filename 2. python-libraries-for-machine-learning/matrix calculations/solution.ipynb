{
 "cells": [
  {
   "cell_type": "markdown",
   "metadata": {},
   "source": [
    "# محاسبات ماتریسی"
   ]
  },
  {
   "cell_type": "markdown",
   "metadata": {},
   "source": [
    "در این تمرین می‌خواهیم عملیات‌های ماتریسی ساده را با کتاب‌خانه numpy تمرین کنیم."
   ]
  },
  {
   "cell_type": "markdown",
   "metadata": {},
   "source": [
    "برای شروع ماتریس‌های زیر را تعریف می‌کنیم:"
   ]
  },
  {
   "cell_type": "markdown",
   "metadata": {},
   "source": [
    "$$\n",
    "A = \n",
    "\\left(\\begin{array}{cc} \n",
    "1 & 2\\\\\n",
    "5 & -2\n",
    "\\end{array}\\right)\n",
    "$$ "
   ]
  },
  {
   "cell_type": "markdown",
   "metadata": {},
   "source": [
    "$$\n",
    "B = \n",
    "\\left(\\begin{array}{cc} \n",
    "-3 & 0\\\\\n",
    "4 & 5\n",
    "\\end{array}\\right)\n",
    "$$ "
   ]
  },
  {
   "cell_type": "markdown",
   "metadata": {},
   "source": [
    "$$\n",
    "C = \n",
    "\\left(\\begin{array}{cc} \n",
    "4 & 25\\\\\n",
    "-\\frac{1}{2} & -3\n",
    "\\end{array}\\right)\n",
    "$$ "
   ]
  },
  {
   "cell_type": "markdown",
   "metadata": {},
   "source": [
    "در این تمرین می‌خواهیم خروجی رابطه زیر را حساب کنیم:"
   ]
  },
  {
   "cell_type": "markdown",
   "metadata": {},
   "source": [
    "$$  M = AC^{-1} + B^{T} + 3I  $$"
   ]
  },
  {
   "cell_type": "markdown",
   "metadata": {},
   "source": [
    "که $I$ ماتریس همانی $ 2*2 $ است."
   ]
  },
  {
   "cell_type": "markdown",
   "metadata": {},
   "source": [
    "برای شروع، چهار ماتریس مورد نیاز را تعریف می‌کنیم:"
   ]
  },
  {
   "cell_type": "code",
   "execution_count": 2,
   "metadata": {},
   "outputs": [],
   "source": [
    "import numpy as np"
   ]
  },
  {
   "cell_type": "code",
   "execution_count": 3,
   "metadata": {},
   "outputs": [],
   "source": [
    "# Define A\n",
    "A = np.array([[1,2],[5,-2]])"
   ]
  },
  {
   "cell_type": "code",
   "execution_count": 4,
   "metadata": {},
   "outputs": [],
   "source": [
    "# Define B\n",
    "B = np.array([[-3,0],[4,5]])"
   ]
  },
  {
   "cell_type": "code",
   "execution_count": 6,
   "metadata": {},
   "outputs": [],
   "source": [
    "# Define C\n",
    "C = np.array([[4,25],[-0.5,-3]])"
   ]
  },
  {
   "cell_type": "code",
   "execution_count": 9,
   "metadata": {},
   "outputs": [
    {
     "name": "stdout",
     "output_type": "stream",
     "text": [
      "[[ 1  2]\n",
      " [ 5 -2]]\n",
      "-----\n",
      "[[-3  0]\n",
      " [ 4  5]]\n",
      "-----\n",
      "[[ 4.  25. ]\n",
      " [-0.5 -3. ]]\n",
      "-----\n",
      "[[1. 0.]\n",
      " [0. 1.]]\n"
     ]
    }
   ],
   "source": [
    "# Define I\n",
    "I = np.identity(2)\n",
    "print(A, B, C, I, sep=\"\\n-----\\n\")"
   ]
  },
  {
   "cell_type": "markdown",
   "metadata": {},
   "source": [
    "حال باید مقدار وارون ماتریس $C$ را حساب کنیم و آن را در متغیر $C\\_inv$ بریزیم:"
   ]
  },
  {
   "cell_type": "code",
   "execution_count": 12,
   "metadata": {},
   "outputs": [
    {
     "name": "stdout",
     "output_type": "stream",
     "text": [
      "[[ -6. -50.]\n",
      " [  1.   8.]]\n"
     ]
    }
   ],
   "source": [
    "# Calculate C_inv\n",
    "C_inv = np.linalg.inv(C)\n",
    "print(C_inv)"
   ]
  },
  {
   "cell_type": "markdown",
   "metadata": {},
   "source": [
    "حال مقدار $ AC^{-1} $ را حساب می‌کنیم و در متغیر D می‌ریزیم:"
   ]
  },
  {
   "cell_type": "code",
   "execution_count": 13,
   "metadata": {},
   "outputs": [
    {
     "name": "stdout",
     "output_type": "stream",
     "text": [
      "[[ 4.  25. ]\n",
      " [-0.5 -3. ]]\n"
     ]
    }
   ],
   "source": [
    "# Calculate D\n",
    "D = np.dot(A, C_inv)\n",
    "print(C)"
   ]
  },
  {
   "cell_type": "markdown",
   "metadata": {},
   "source": [
    "حال مقدار $ B^{T} $ را حساب می‌کنیم و در متغیر $ B\\_T $ می‌ریزیم."
   ]
  },
  {
   "cell_type": "code",
   "execution_count": 14,
   "metadata": {},
   "outputs": [
    {
     "name": "stdout",
     "output_type": "stream",
     "text": [
      "[[-3  4]\n",
      " [ 0  5]]\n"
     ]
    }
   ],
   "source": [
    "# Calculate B_T\n",
    "B_T = B.T\n",
    "print(B_T)"
   ]
  },
  {
   "cell_type": "markdown",
   "metadata": {},
   "source": [
    "در انتها، مقدار نهایی $ M $ را حساب می‌کنیم."
   ]
  },
  {
   "cell_type": "code",
   "execution_count": 11,
   "metadata": {},
   "outputs": [],
   "source": [
    "# Calculate M\n",
    "M = "
   ]
  },
  {
   "cell_type": "code",
   "execution_count": null,
   "metadata": {},
   "outputs": [],
   "source": [
    "print(M)"
   ]
  },
  {
   "cell_type": "markdown",
   "metadata": {},
   "source": [
    "با اجرای دستور زیر، آرایه‌ها را ذخیره کنید تا پاسخ‌های‌تان ارزیابی شود."
   ]
  },
  {
   "cell_type": "code",
   "execution_count": null,
   "metadata": {},
   "outputs": [],
   "source": [
    "np.savez(\"answers.npz\",C_inv = C_inv,D = D,B_T = B_T,M = M)"
   ]
  }
 ],
 "metadata": {
  "kernelspec": {
   "display_name": "Python 3",
   "language": "python",
   "name": "python3"
  },
  "language_info": {
   "codemirror_mode": {
    "name": "ipython",
    "version": 3
   },
   "file_extension": ".py",
   "mimetype": "text/x-python",
   "name": "python",
   "nbconvert_exporter": "python",
   "pygments_lexer": "ipython3",
   "version": "3.6.9"
  }
 },
 "nbformat": 4,
 "nbformat_minor": 4
}
